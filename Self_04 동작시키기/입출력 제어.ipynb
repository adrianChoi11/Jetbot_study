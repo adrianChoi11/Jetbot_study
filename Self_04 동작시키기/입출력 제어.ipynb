{
 "cells": [
  {
   "cell_type": "code",
   "execution_count": null,
   "metadata": {},
   "outputs": [],
   "source": [
    "import RPi.GPIO as GPIO\n",
    "import time\n",
    "\n",
    "# pin Definitions:\n",
    "led_pin = 24  # BOARD pin 24 GREEN\n",
    "but_pin = 8  # BOARD pin 8 key1\n",
    "\n",
    "def main():\n",
    "    \n",
    "    pre_velue = None\n",
    "    \n",
    "    #pin Setup\n",
    "    GPIO.setmode(GPIO.BCM)  # BCM mode\n",
    "    GPIO.setup(led_pin, GPIO.OUT)  # LED pin set as output\n",
    "    GPIO.setup(but_pin, GPIO.IN)  # Button pin set as input\n",
    "    #GPIO.setwarnings(False)  # 오류 제거, 오류 발생시 한번만 들어가 있으면 되는듯?\n",
    "    #Initial status for LED\n",
    "    \n",
    "    print(\"Starting demo now\")\n",
    "    try: \n",
    "        while True:\n",
    "            curr_velue = GPIO.input(but_pin)  # 버튼이 눌렸나 확인 눌리면 High(3.3v), 눌리지 않으면 Low(0v)\n",
    "            if curr_velue != pre_velue:  # pre_velue 값이 none이라서 처음 눌리면 달라져서 조건문 수행 \n",
    "                GPIO.output(led_pin, curr_velue)  # 눌리면 curr_velue가 High가 되어서 핀에 불이 들어옴\n",
    "                pre_velue=curr_velue  # 눌렸을 때 값이 이전값으로 저장됨 만약 계속 누르고 있다면 지금과 과거의 값이 같아 계속 불이 들어온다\n",
    "                print(\"Outputing {} to Pin {}\".format(curr_velue, pre_velue))\n",
    "                \n",
    "#            time.sleep(0.5)\n",
    "    finally:\n",
    "        GPIO.cleanup()  # cleanup all GPIO\n",
    "        \n",
    "if __name__  == '__main__':\n",
    "    main()"
   ]
  },
  {
   "cell_type": "code",
   "execution_count": 1,
   "metadata": {},
   "outputs": [
    {
     "name": "stdout",
     "output_type": "stream",
     "text": [
      "Starting demo now\n",
      "LED ON\n",
      "LED OFF\n",
      "LED ON\n",
      "LED OFF\n",
      "LED ON\n",
      "LED OFF\n",
      "LED ON\n",
      "LED OFF\n",
      "LED ON\n",
      "LED OFF\n"
     ]
    },
    {
     "ename": "KeyboardInterrupt",
     "evalue": "",
     "output_type": "error",
     "traceback": [
      "\u001b[0;31m---------------------------------------------------------------------------\u001b[0m",
      "\u001b[0;31mKeyboardInterrupt\u001b[0m                         Traceback (most recent call last)",
      "\u001b[0;32m<ipython-input-1-ee05f0c1adce>\u001b[0m in \u001b[0;36m<module>\u001b[0;34m\u001b[0m\n\u001b[1;32m     48\u001b[0m \u001b[0;34m\u001b[0m\u001b[0m\n\u001b[1;32m     49\u001b[0m \u001b[0;32mif\u001b[0m \u001b[0m__name__\u001b[0m  \u001b[0;34m==\u001b[0m \u001b[0;34m'__main__'\u001b[0m\u001b[0;34m:\u001b[0m\u001b[0;34m\u001b[0m\u001b[0;34m\u001b[0m\u001b[0m\n\u001b[0;32m---> 50\u001b[0;31m     \u001b[0mmain\u001b[0m\u001b[0;34m(\u001b[0m\u001b[0;34m)\u001b[0m\u001b[0;34m\u001b[0m\u001b[0;34m\u001b[0m\u001b[0m\n\u001b[0m",
      "\u001b[0;32m<ipython-input-1-ee05f0c1adce>\u001b[0m in \u001b[0;36mmain\u001b[0;34m()\u001b[0m\n\u001b[1;32m     42\u001b[0m         \u001b[0;31m# curr_but2 = GPIO.input(but_pin_2)\u001b[0m\u001b[0;34m\u001b[0m\u001b[0;34m\u001b[0m\u001b[0;34m\u001b[0m\u001b[0m\n\u001b[1;32m     43\u001b[0m         \u001b[0;32mwhile\u001b[0m \u001b[0;32mTrue\u001b[0m\u001b[0;34m:\u001b[0m\u001b[0;34m\u001b[0m\u001b[0;34m\u001b[0m\u001b[0m\n\u001b[0;32m---> 44\u001b[0;31m                 \u001b[0;32mpass\u001b[0m  \u001b[0;31m# 여기에 뭐리도 넣지 않으면 main이 callback보다 먼저 종료가 되어서 쓰레드 에러가 난다\u001b[0m\u001b[0;34m\u001b[0m\u001b[0;34m\u001b[0m\u001b[0m\n\u001b[0m\u001b[1;32m     45\u001b[0m             \u001b[0;31m#  time.sleep(0.5)\u001b[0m\u001b[0;34m\u001b[0m\u001b[0;34m\u001b[0m\u001b[0;34m\u001b[0m\u001b[0m\n\u001b[1;32m     46\u001b[0m     \u001b[0;32mfinally\u001b[0m\u001b[0;34m:\u001b[0m\u001b[0;34m\u001b[0m\u001b[0;34m\u001b[0m\u001b[0m\n",
      "\u001b[0;31mKeyboardInterrupt\u001b[0m: "
     ]
    }
   ],
   "source": [
    "# 인터럽트 사용해보기\n",
    "\n",
    "import RPi.GPIO as GPIO\n",
    "import time\n",
    "GPIO.setwarnings(False)  # 오류 제거, 오류 발생시 한번만 들어가 있으면 되는듯?\n",
    "# pin Definitions:\n",
    "led_pin = 24  # BOARD pin 24 GREEN\n",
    "but_pin_1 = 8  # BOARD pin 8 key1\n",
    "but_pin_2 = 7  # BOARD pin 7 key2\n",
    "\n",
    "def but1(a):\n",
    "    GPIO.output(led_pin, 0) \n",
    "    print(\"LED ON\")\n",
    "\n",
    "def but2(a):\n",
    "    GPIO.output(led_pin, 1)\n",
    "    print(\"LED OFF\")\n",
    "\n",
    "\n",
    "def main():\n",
    "    \n",
    "    pre_velue_1 = None\n",
    "    pre_velue_2 = None\n",
    "    \n",
    "  \n",
    "    \n",
    "    #pin Setup\n",
    "    GPIO.setmode(GPIO.BCM)  # BCM mode\n",
    "    GPIO.setup(led_pin, GPIO.OUT, initial=GPIO.LOW)  # LED pin set as output, LOW(0) is LED on, HIGH(1) is LED off\n",
    "    \n",
    "    # push button : push is high, not push is low\n",
    "    GPIO.setup(but_pin_1, GPIO.IN,pull_up_down=GPIO.PUD_UP)  # Button pin set as input, pullup : push is low / pulldown : push is high\n",
    "    GPIO.setup(but_pin_2, GPIO.IN,pull_up_down=GPIO.PUD_UP)  # Button pin set as input\n",
    "    \n",
    "    GPIO.add_event_detect(but_pin_1, GPIO.RISING, callback=but1, bouncetime=10)  # Interrupt triger is rising edge \n",
    "    GPIO.add_event_detect(but_pin_2, GPIO.RISING, callback=but2, bouncetime=10)\n",
    "    \n",
    "    \n",
    "    #Initial status for LED\n",
    "    print(\"Starting demo now\")\n",
    "    try: \n",
    "        while True:\n",
    "                pass  # 여기에 뭐리도 넣지 않으면 main이 callback보다 먼저 종료가 되어서 쓰레드 에러가 난다\n",
    "            #  time.sleep(0.5)\n",
    "    finally:\n",
    "        GPIO.cleanup()  # cleanup all GPIO\n",
    "        \n",
    "if __name__  == '__main__':\n",
    "    main()\n"
   ]
  },
  {
   "cell_type": "code",
   "execution_count": null,
   "metadata": {},
   "outputs": [],
   "source": []
  }
 ],
 "metadata": {
  "kernelspec": {
   "display_name": "Python 3",
   "language": "python",
   "name": "python3"
  },
  "language_info": {
   "codemirror_mode": {
    "name": "ipython",
    "version": 3
   },
   "file_extension": ".py",
   "mimetype": "text/x-python",
   "name": "python",
   "nbconvert_exporter": "python",
   "pygments_lexer": "ipython3",
   "version": "3.6.9"
  }
 },
 "nbformat": 4,
 "nbformat_minor": 4
}
