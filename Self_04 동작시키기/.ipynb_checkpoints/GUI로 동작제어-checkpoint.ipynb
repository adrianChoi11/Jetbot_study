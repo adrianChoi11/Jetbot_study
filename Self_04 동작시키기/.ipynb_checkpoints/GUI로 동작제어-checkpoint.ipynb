{
 "cells": [
  {
   "cell_type": "code",
   "execution_count": 25,
   "metadata": {},
   "outputs": [
    {
     "data": {
      "application/vnd.jupyter.widget-view+json": {
       "model_id": "d8366f79cf944a59a87914abf129cc32",
       "version_major": 2,
       "version_minor": 0
      },
      "text/plain": [
       "HBox(children=(FloatSlider(value=0.0, description='left_motor', max=1.0, min=-1.0, orientation='vertical', ste…"
      ]
     },
     "metadata": {},
     "output_type": "display_data"
    }
   ],
   "source": [
    "# 제어 GUI 생성\n",
    "# https://ipywidgets.readthedocs.io/en/latest/examples/Widget%20List.html  다양한 위젯 사용 가능\n",
    "\n",
    "import ipywidgets.widgets as widgets\n",
    "from IPython.display import display\n",
    "\n",
    "# create two sliders with ranges [-1.0, 1.0]\n",
    "# widgets.FloatSlider(discription='표시이름', min = -최솟값 max = 최댓값, step = 값 간격, orientation='모양')\n",
    "left_slider = widgets.FloatSlider(description='left_motor', min = -1.0, max = 1.0, step = 0.01, orientation='vertical')\n",
    "right_slider = widgets.FloatSlider(description='right_mortor', min = -1.0, max = 1.0, step = 0.01, orientation='vertical')\n",
    "\n",
    "# left_slider =widgets.IntSlider(description='Test:', min = 0, max = 10, step = 1, orientation='horizontal')\n",
    "\n",
    "# create a horizontal box container to place the sliders next to eachother\n",
    "slider_container = widgets.HBox([left_slider, right_slider])  # GUI의 배치 모양을 수평으로 (VBox는 수평으로 )\n",
    "\n",
    "# display the container in this cell's output\n",
    "display(slider_container)"
   ]
  },
  {
   "cell_type": "code",
   "execution_count": 12,
   "metadata": {},
   "outputs": [],
   "source": [
    "# 동작 코드와의 링크\n",
    "import traitlets\n",
    "from jetbot import Robot\n",
    "import time\n",
    "robot = Robot()\n",
    "\n",
    "left_link = traitlets.link((left_slider, 'value'), (robot.left_motor,'value'))\n",
    "right_link = traitlets.link((right_slider, 'value'), (robot.right_motor,'value'))"
   ]
  },
  {
   "cell_type": "code",
   "execution_count": 17,
   "metadata": {},
   "outputs": [],
   "source": [
    "# 링크 해제\n",
    "left_link.unlink()\n",
    "right_link.unlink()"
   ]
  },
  {
   "cell_type": "code",
   "execution_count": 59,
   "metadata": {},
   "outputs": [
    {
     "data": {
      "application/vnd.jupyter.widget-view+json": {
       "model_id": "dce6bbe3b9af48068ff8a47a6706580d",
       "version_major": 2,
       "version_minor": 0
      },
      "text/plain": [
       "VBox(children=(Button(button_style='primary', description='forward', layout=Layout(align_self='center', height…"
      ]
     },
     "metadata": {},
     "output_type": "display_data"
    }
   ],
   "source": [
    "# 4방향 버튼 제어\n",
    "\n",
    "# 버튼은 슬라이더와 다르게 event handler를 통해서 사용함\n",
    "# event handler\n",
    "\n",
    "def stop(change):\n",
    "    robot.stop()\n",
    "    \n",
    "def step_forward(change):\n",
    "    robot.forward(0.6)\n",
    "    time.sleep(0.5)\n",
    "    robot.stop()\n",
    "\n",
    "    \n",
    "def step_backword(change):\n",
    "    robot.backward(0.6)\n",
    "    time.sleep(0.5)\n",
    "    robot.stop()\n",
    "    \n",
    "def step_left(change):\n",
    "    robot.left(0.6)\n",
    "    time.sleep(0.5)\n",
    "    robot.stop()\n",
    "    \n",
    "def step_right(change):\n",
    "    robot.right(0.6)\n",
    "    time.sleep(0.5)\n",
    "    robot.stop()\n",
    "    \n",
    "\n",
    "\n",
    "# https://ipywidgets.readthedocs.io/en/latest/examples/Widget%20Styling.html -> Layout and Styling of Jupyter widgets\n",
    "#create button\n",
    "button_layout = widgets.Layout(width = '100px', height = '80px', align_self = 'center')  # 버튼이 놓을 판넬 레이아웃 생성(폭, 높이, 정렬)\n",
    "\n",
    "stop_button = widgets.Button(description = 'Stop', button_style = 'danger', layout = button_layout) # 버튼 생성(표시 이름, 버튼 스타일, )\n",
    "forward_button = widgets.Button(description = 'forward',button_style = 'primary', layout = button_layout)\n",
    "backword_button = widgets.Button(description = 'backword',button_style = 'success', layout = button_layout)\n",
    "left_button = widgets.Button(description = 'left',button_style = 'info', layout = button_layout)\n",
    "right_button = widgets.Button(description = 'right', button_style = 'warning',layout = button_layout)\n",
    "\n",
    "# display button\n",
    "middle_box = widgets.HBox([left_button,stop_button, right_button],layout=widgets.Layout(align_self='center'))\n",
    "controls_box = widgets.VBox([forward_button, middle_box, backword_button])\n",
    "display(controls_box)\n",
    "\n",
    "\n",
    "# link button to event handler\n",
    "stop_button.on_click(stop)\n",
    "forward_button.on_click(step_forward)\n",
    "backword_button.on_click(step_backword)\n",
    "left_button.on_click(step_left)\n",
    "right_button.on_click(step_right)"
   ]
  },
  {
   "cell_type": "code",
   "execution_count": null,
   "metadata": {},
   "outputs": [],
   "source": []
  },
  {
   "cell_type": "code",
   "execution_count": null,
   "metadata": {},
   "outputs": [],
   "source": []
  },
  {
   "cell_type": "code",
   "execution_count": null,
   "metadata": {},
   "outputs": [],
   "source": []
  }
 ],
 "metadata": {
  "kernelspec": {
   "display_name": "Python 3",
   "language": "python",
   "name": "python3"
  },
  "language_info": {
   "codemirror_mode": {
    "name": "ipython",
    "version": 3
   },
   "file_extension": ".py",
   "mimetype": "text/x-python",
   "name": "python",
   "nbconvert_exporter": "python",
   "pygments_lexer": "ipython3",
   "version": "3.6.9"
  }
 },
 "nbformat": 4,
 "nbformat_minor": 4
}
