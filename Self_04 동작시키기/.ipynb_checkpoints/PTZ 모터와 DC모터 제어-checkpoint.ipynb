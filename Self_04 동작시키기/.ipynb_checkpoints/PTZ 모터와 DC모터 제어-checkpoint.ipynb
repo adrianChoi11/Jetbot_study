{
 "cells": [
  {
   "cell_type": "code",
   "execution_count": 22,
   "metadata": {},
   "outputs": [],
   "source": [
    "PTZ 카메라 제어(Pen(회전) Tilt(기울기) Zoom(줌)이 되는 카메라)\n",
    "\n",
    "from jetbot import Robot\n",
    "import time\n",
    "robot = Robot()\n",
    "\n",
    "robot.up(1)\n",
    "time.sleep(0.5)\n",
    "robot.down(1)\n",
    "time.sleep(0.4)\n",
    "robot.vertical_motors_stop()"
   ]
  },
  {
   "cell_type": "code",
   "execution_count": null,
   "metadata": {},
   "outputs": [],
   "source": [
    "robot.forward(0.4)  # 전진 최대속도 1 \n",
    "time.sleep(1)\n",
    "robot.stop()  # 모터 정지"
   ]
  },
  {
   "cell_type": "code",
   "execution_count": 23,
   "metadata": {},
   "outputs": [],
   "source": [
    "robot.backward(1) ㅍ #후진 최대속도 1\n",
    "time.sleep(1)\n",
    "robot.stop()"
   ]
  },
  {
   "cell_type": "code",
   "execution_count": null,
   "metadata": {},
   "outputs": [],
   "source": [
    "robot.right(0.75)  # 우회전 최대속도 1\n",
    "time.sleep(1)\n",
    "robot.stop()"
   ]
  },
  {
   "cell_type": "code",
   "execution_count": 24,
   "metadata": {},
   "outputs": [],
   "source": [
    "robot.left(0.75)  # 좌회전 최대속도 1\n",
    "time.sleep(1)\n",
    "robot.stop()"
   ]
  },
  {
   "cell_type": "code",
   "execution_count": 27,
   "metadata": {},
   "outputs": [],
   "source": [
    "robot.set_motors(0.5,0.3)  # 양쪽 모터를 동시에 제어(왼쪽, 오른쪽)\n",
    "time.sleep(0.6)\n",
    "robot.stop()"
   ]
  },
  {
   "cell_type": "code",
   "execution_count": null,
   "metadata": {},
   "outputs": [],
   "source": []
  }
 ],
 "metadata": {
  "kernelspec": {
   "display_name": "Python 3",
   "language": "python",
   "name": "python3"
  },
  "language_info": {
   "codemirror_mode": {
    "name": "ipython",
    "version": 3
   },
   "file_extension": ".py",
   "mimetype": "text/x-python",
   "name": "python",
   "nbconvert_exporter": "python",
   "pygments_lexer": "ipython3",
   "version": "3.6.9"
  }
 },
 "nbformat": 4,
 "nbformat_minor": 4
}
