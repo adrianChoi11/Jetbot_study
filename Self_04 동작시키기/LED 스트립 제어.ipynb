{
 "cells": [
  {
   "cell_type": "code",
   "execution_count": 1,
   "metadata": {},
   "outputs": [],
   "source": [
    "from RGB_Lib import Programing_RGB # Using Programing_RGB class\n",
    "RGB = Programing_RGB()  # make instance, we control RGB instance  \n",
    "RGB.Set_An_RGB(0, 0xFF, 0xFF, 0xFF)  # 첫 번째 LED만 흰색으로 만들기, 파라미터는 4개 필요(position, R,G,B)"
   ]
  },
  {
   "cell_type": "code",
   "execution_count": 28,
   "metadata": {},
   "outputs": [],
   "source": [
    "RGB.Set_All_RGB(0xff,0x00,0x00)  # Only red on  (R,G,B)"
   ]
  },
  {
   "cell_type": "code",
   "execution_count": 29,
   "metadata": {},
   "outputs": [],
   "source": [
    "RGB.Set_All_RGB(0x00,0xff,0x00)  # Only greenon"
   ]
  },
  {
   "cell_type": "code",
   "execution_count": 30,
   "metadata": {},
   "outputs": [],
   "source": [
    "RGB.Set_All_RGB(0x00,0x00,0xff)  # Only blue on"
   ]
  },
  {
   "cell_type": "code",
   "execution_count": 33,
   "metadata": {},
   "outputs": [],
   "source": [
    "RGB.OFF_ALL_RGB()  # All leb is OFF"
   ]
  },
  {
   "cell_type": "code",
   "execution_count": 35,
   "metadata": {},
   "outputs": [],
   "source": [
    "RGB.Set_WaterfallLight_RGB()  # 1번 주터 순차적으로 점멸"
   ]
  },
  {
   "cell_type": "code",
   "execution_count": 37,
   "metadata": {},
   "outputs": [],
   "source": [
    "RGB.Set_ChameleonLight_RGB()  # 무지개 색 연출"
   ]
  },
  {
   "cell_type": "code",
   "execution_count": 38,
   "metadata": {},
   "outputs": [],
   "source": [
    "RGB.Set_BreathColor_RGB()  # 숨쉬는 듯한 연출 "
   ]
  },
  {
   "cell_type": "code",
   "execution_count": 45,
   "metadata": {},
   "outputs": [],
   "source": [
    "RGB.Set_BreathSColor_RGB(0)  # 0~6까지 7단계로 색을 설정할 수 있다\n",
    "RGB.Set_BreathSSpeed_RGB(3)  # 숨쉬기 효과의 속도를 1~3으로 설정\n",
    "RGB.Set_BreathSLight_RGB()  # 위의 설정값을 출력"
   ]
  },
  {
   "cell_type": "code",
   "execution_count": null,
   "metadata": {},
   "outputs": [],
   "source": []
  }
 ],
 "metadata": {
  "kernelspec": {
   "display_name": "Python 3",
   "language": "python",
   "name": "python3"
  },
  "language_info": {
   "codemirror_mode": {
    "name": "ipython",
    "version": 3
   },
   "file_extension": ".py",
   "mimetype": "text/x-python",
   "name": "python",
   "nbconvert_exporter": "python",
   "pygments_lexer": "ipython3",
   "version": "3.6.9"
  }
 },
 "nbformat": 4,
 "nbformat_minor": 4
}
