{
 "cells": [
  {
   "cell_type": "code",
   "execution_count": 3,
   "metadata": {},
   "outputs": [
    {
     "name": "stdout",
     "output_type": "stream",
     "text": [
      "serial Open!\n",
      "serial Close!\n"
     ]
    }
   ],
   "source": [
    "# PermissionError: [Errno 13] Permission denied: '/dev/ttyTHS1'\n",
    "# 위 에러는 접근 권한 에러로 sudo chmod 666(666은 파일접근 권한 or 777은 디렉토리 접근 권한) /dev/ttyAMA0 해당 령어로 접근 권한을 바꾸어주면 된다\n",
    "# servo motor를 제어하기 위해서 젯봇은 시리얼 통신을 하는데 봇은 이를 위해 ttyTHS1 방식을 사용\n",
    "\n",
    "# 비동기화(Asynchronous) 방식\n",
    "from servoserial import ServoSerial\n",
    "import time\n",
    "servo_device = ServoSerial()"
   ]
  },
  {
   "cell_type": "code",
   "execution_count": 4,
   "metadata": {},
   "outputs": [
    {
     "name": "stdout",
     "output_type": "stream",
     "text": [
      "132\n",
      "b'\\xff\\xff\\x01\\x07\\x03*\\x084\\x00\\n\\x84'\n",
      "183\n",
      "b'\\xff\\xff\\x02\\x07\\x03*\\x08\\x00\\x00\\n\\xb7'\n"
     ]
    }
   ],
   "source": [
    "servo_device.Servo_serial_control(1,2100)  # (모터 번호, 모터 움직임 위치)\n",
    "time.sleep(0.1)\n",
    "servo_device.Servo_serial_control(2,2048)"
   ]
  },
  {
   "cell_type": "code",
   "execution_count": 5,
   "metadata": {},
   "outputs": [
    {
     "name": "stdout",
     "output_type": "stream",
     "text": [
      "167\n",
      "b'\\xff\\xff\\x01\\x07\\x03*\\x05\\x14\\x00\\n\\xa7'\n",
      "166\n",
      "b'\\xff\\xff\\x02\\x07\\x03*\\x05\\x14\\x00\\n\\xa6'\n"
     ]
    }
   ],
   "source": [
    "servo_device.Servo_serial_control(1,1300)\n",
    "time.sleep(0.1)\n",
    "servo_device.Servo_serial_control(2,1300)"
   ]
  },
  {
   "cell_type": "code",
   "execution_count": 6,
   "metadata": {},
   "outputs": [
    {
     "name": "stdout",
     "output_type": "stream",
     "text": [
      "132\n",
      "b'\\xff\\xff\\x01\\x07\\x03*\\x084\\x00\\n\\x84'\n"
     ]
    }
   ],
   "source": [
    "servo_device.Servo_serial_control(1,2100)\n"
   ]
  },
  {
   "cell_type": "code",
   "execution_count": null,
   "metadata": {},
   "outputs": [],
   "source": []
  }
 ],
 "metadata": {
  "kernelspec": {
   "display_name": "Python 3",
   "language": "python",
   "name": "python3"
  },
  "language_info": {
   "codemirror_mode": {
    "name": "ipython",
    "version": 3
   },
   "file_extension": ".py",
   "mimetype": "text/x-python",
   "name": "python",
   "nbconvert_exporter": "python",
   "pygments_lexer": "ipython3",
   "version": "3.6.9"
  }
 },
 "nbformat": 4,
 "nbformat_minor": 4
}
