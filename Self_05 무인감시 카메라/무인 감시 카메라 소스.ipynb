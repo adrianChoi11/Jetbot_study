{
 "cells": [
  {
   "cell_type": "code",
   "execution_count": 1,
   "metadata": {},
   "outputs": [],
   "source": [
    "import Adafruit_SSD1306\n",
    "from PIL import Image\n",
    "from PIL import ImageDraw\n",
    "from PIL import ImageFont\n",
    "\n",
    "from jetbot.utils.utils import get_ip_address\n",
    "import subprocess\n",
    "import time"
   ]
  },
  {
   "cell_type": "code",
   "execution_count": 2,
   "metadata": {},
   "outputs": [],
   "source": [
    "# OLED-SSD1306 초기화\n",
    "\n",
    "# 하드웨어 I2C 방식의 128x32 Display\n",
    "# gpio는 인식문제 해결을 위해 1로 설정\n",
    "disp = Adafruit_SSD1306.SSD1306_128_32(rst=None,i2c_bus=0,gpio=1)\n",
    "\n",
    "# 디스플레이 초기화\n",
    "disp.begin()\n",
    "\n",
    "# 화면 클리어\n",
    "disp.clear()\n",
    "disp.display()\n",
    "\n",
    "# 디스플레이 이미지 생성, 흑백(1-bit) 이미지 사용\n",
    "disp_image = Image.new('1', (disp.width, disp.height))\n",
    "\n",
    "# 이미지에 그릴 드로잉 객체 얻기\n",
    "screen = ImageDraw.Draw(disp_image)\n",
    "\n",
    "# 화면 전체를 검은색으로 채워서 지우기\n",
    "screen.rectangle((0,0, disp.width, disp.height), outline=0,fill=0)\n",
    "\n",
    "# 화면의 패딩영역 위치 조정 \n",
    "screen_padding = -2\n",
    "screen_top = screen_padding\n",
    "screen_botton = disp.height - screen_padding\n",
    "screen_x = 0\n",
    "\n",
    "# 기본 서체 사용\n",
    "font = ImageFont.load_default()"
   ]
  },
  {
   "cell_type": "code",
   "execution_count": 6,
   "metadata": {},
   "outputs": [],
   "source": [
    "# OLED 화면에 기본 정보 디스플레이\n",
    "\n",
    "### OLED 화면에 시스텐 정보 4줄을 보여주는 함수\n",
    "\n",
    "## 로컬 IP 얻기\n",
    "def getip():\n",
    "    return str(get_ip_address('wlan0'))\n",
    "\n",
    "def ShowInfo(strInfo):\n",
    "    # 화면 전체를 검은색으로 채워서 지우기\n",
    "    screen.rectangle((0,0, disp.width, disp.height), outline=0,fill=0)\n",
    "    \n",
    "    # 화면 맨 위의 첫 번째 줄에는 매개변수로 넘겨받을 문자열을 디스플레이\n",
    "    screen.text((screen_x,screen_top+0), strInfo, font=font, fill=255)\n",
    "    \n",
    "    # 두 번째 줄에는 젯봇의 ip address를 디스플레이\n",
    "    screen.text((screen_x,screen_top+8), \"IP: \" + getip(), font=font, fill=255)\n",
    "    \n",
    "    # 세 번째 줄에는 메모리 사용 상태를 디스플레이\n",
    "    cmd = \"free -m | awk 'NR=={printf \\\"Mem:%s/%sM %.2f%%\\\", $3,$2,$3*100/$2}'\"\n",
    "    MemUsage = subprocess.check_output(cmd,shell = True)\n",
    "    screen.text((screen_x,screen_top+16), str(MemUsage.decode('utf-8')), font=font, fill=255)\n",
    "    \n",
    "    # 네 번째 줄에는 디스크 사용 상태를 디스플레이\n",
    "    cmd = \"df -h | awk 'NF==\\\"/\\\"{printf \\\"Disk:%d/%dGB %s\\\", $3,$2,$5}'\"\n",
    "    Disk = subprocess.check_output(cmd,shell = True)\n",
    "    screen.text((screen_x,screen_top+25), str(Disk.decode('utf-8')), font=font, fill=255)\n",
    "    \n",
    "    # 설정한 내용을 OLED 화면에 출력\n",
    "    disp.image(disp_image)\n",
    "    disp.display()"
   ]
  },
  {
   "cell_type": "code",
   "execution_count": 7,
   "metadata": {},
   "outputs": [
    {
     "ename": "NameError",
     "evalue": "name 'GB' is not defined",
     "output_type": "error",
     "traceback": [
      "\u001b[0;31m---------------------------------------------------------------------------\u001b[0m",
      "\u001b[0;31mNameError\u001b[0m                                 Traceback (most recent call last)",
      "\u001b[0;32m<ipython-input-7-b40767244378>\u001b[0m in \u001b[0;36m<module>\u001b[0;34m\u001b[0m\n\u001b[0;32m----> 1\u001b[0;31m \u001b[0mGB\u001b[0m\u001b[0;34m\u001b[0m\u001b[0;34m\u001b[0m\u001b[0m\n\u001b[0m",
      "\u001b[0;31mNameError\u001b[0m: name 'GB' is not defined"
     ]
    }
   ],
   "source": []
  },
  {
   "cell_type": "code",
   "execution_count": null,
   "metadata": {},
   "outputs": [],
   "source": []
  }
 ],
 "metadata": {
  "kernelspec": {
   "display_name": "Python 3",
   "language": "python",
   "name": "python3"
  },
  "language_info": {
   "codemirror_mode": {
    "name": "ipython",
    "version": 3
   },
   "file_extension": ".py",
   "mimetype": "text/x-python",
   "name": "python",
   "nbconvert_exporter": "python",
   "pygments_lexer": "ipython3",
   "version": "3.6.9"
  }
 },
 "nbformat": 4,
 "nbformat_minor": 4
}
