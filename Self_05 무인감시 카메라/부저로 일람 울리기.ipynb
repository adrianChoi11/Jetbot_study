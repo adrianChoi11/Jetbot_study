{
 "cells": [
  {
   "cell_type": "code",
   "execution_count": 3,
   "metadata": {},
   "outputs": [
    {
     "data": {
      "text/plain": [
       "256"
      ]
     },
     "execution_count": 3,
     "metadata": {},
     "output_type": "execute_result"
    }
   ],
   "source": [
    "# I/O제어를 위해서 권한을 취득합니다.\n",
    "# 해당 코드가 없다면 권한 문제로 오류가 발생합니다\n",
    "# https://www.jetsonhacks.com/2019/10/10/jetson-nano-uart/\n",
    "import os\n",
    "os.system(\"sudo chmod 777 /dev/ttyTHS1\")  # 젯봇의 입출력을 담당하는 dev 디렉토리의 ttyTHS1 장치파일(UART 통신을 함)을 사용함"
   ]
  },
  {
   "cell_type": "code",
   "execution_count": 4,
   "metadata": {},
   "outputs": [],
   "source": [
    "# GPIO 모듈을 import하고, BCM 모드로 설정 후 사용할 핀을 설정\n",
    "import RPi.GPIO as gpio\n",
    "\n",
    "BEEP_pin = 6  # buzzer 핀 번호\n",
    "\n",
    "gpio.setmode(gpio.BCM)  # 보드 핀 번호 양식\n",
    "gpio.setup(BEEP_pin, gpio.OUT, initial = gpio.LOW)  # 초기상태 끄기"
   ]
  },
  {
   "cell_type": "code",
   "execution_count": 6,
   "metadata": {},
   "outputs": [],
   "source": [
    "import time\n",
    "\n",
    "# 부저 울리기 함수\n",
    "def Beep(beepTime):\n",
    "    \n",
    "    gpio.output(BEEP_pin, gpio.HIGH)  # 부저 켜기\n",
    "    time.sleep(beepTime)  # 소리내는 기간 0.1초\n",
    "    gpio.output(BEEP_pin, gpio.LOW)  # 부저 끄기\n",
    "\n",
    "time.sleep(1)  # 1초 대기"
   ]
  },
  {
   "cell_type": "code",
   "execution_count": 8,
   "metadata": {},
   "outputs": [],
   "source": [
    "# 부저 울리기 함수 3회 호출\n",
    "for i in range(0,3): \n",
    "    Beep(0.1)\n",
    "    time.sleep(0.5)"
   ]
  },
  {
   "cell_type": "code",
   "execution_count": null,
   "metadata": {},
   "outputs": [],
   "source": []
  },
  {
   "cell_type": "code",
   "execution_count": null,
   "metadata": {},
   "outputs": [],
   "source": []
  }
 ],
 "metadata": {
  "kernelspec": {
   "display_name": "Python 3",
   "language": "python",
   "name": "python3"
  },
  "language_info": {
   "codemirror_mode": {
    "name": "ipython",
    "version": 3
   },
   "file_extension": ".py",
   "mimetype": "text/x-python",
   "name": "python",
   "nbconvert_exporter": "python",
   "pygments_lexer": "ipython3",
   "version": "3.6.9"
  }
 },
 "nbformat": 4,
 "nbformat_minor": 4
}
