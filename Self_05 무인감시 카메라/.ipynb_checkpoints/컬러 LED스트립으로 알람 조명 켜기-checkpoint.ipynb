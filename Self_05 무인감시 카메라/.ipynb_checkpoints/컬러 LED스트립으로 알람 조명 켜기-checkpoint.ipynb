{
 "cells": [
  {
   "cell_type": "code",
   "execution_count": 13,
   "metadata": {},
   "outputs": [
    {
     "data": {
      "text/plain": [
       "256"
      ]
     },
     "execution_count": 13,
     "metadata": {},
     "output_type": "execute_result"
    }
   ],
   "source": [
    "import os\n",
    "os.system(\"sudo chmod 777 /dev/ttyTHS1\")"
   ]
  },
  {
   "cell_type": "code",
   "execution_count": 14,
   "metadata": {},
   "outputs": [],
   "source": [
    "# 컬러 LED 제어를 위해 인스턴스 생성\n",
    "from RGB_Lib import Programing_RGB\n",
    "\n",
    "RGB = Programing_RGB()"
   ]
  },
  {
   "cell_type": "code",
   "execution_count": 17,
   "metadata": {},
   "outputs": [],
   "source": [
    "import time\n",
    "\n",
    "RGB.Set_All_RGB(0xFF,0x00,0x00)  # 전체 색상을 빨강으로 설정\n",
    "time.sleep(0.5)\n",
    "RGB.Set_All_RGB(0x00, 0xff, 0x00)  # 전체 색상을 초록으로 설정\n",
    "time.sleep(0.5)\n",
    "RGB.Set_All_RGB(0x00, 0x00, 0xff)  # 전체 색상을 파랑으로 설정\n",
    "time.sleep(0.5)\n",
    "\n",
    "RGB.OFF_ALL_RGB(); # RGB 끄기\n",
    "time.sleep(1)"
   ]
  },
  {
   "cell_type": "code",
   "execution_count": 19,
   "metadata": {},
   "outputs": [],
   "source": [
    "# 특정 LED를 선택해서 색상 설정\n",
    "RGB.Set_An_RGB(0,0x00, 0x00, 0xff)  # 0번째(우측 뒤쪽) 빨강\n",
    "time.sleep(0.5)\n",
    "RGB.Set_An_RGB(3,0x00, 0x00, 0xff)  # 3번째 빨강\n",
    "time.sleep(0.5)\n",
    "RGB.Set_An_RGB(5,0x00, 0x00, 0xff)  # 5번째 (죄측 뒤쪽) 빨강\n",
    "time.sleep(0.5)\n",
    "RGB.Set_An_RGB(8,0x00, 0x00, 0xff)  # 8번째 빨강\n",
    "time.sleep(0.5)\n",
    "\n",
    "RGB.OFF_ALL_RGB(); # RGB 끄기\n",
    "time.sleep(1)"
   ]
  },
  {
   "cell_type": "code",
   "execution_count": 22,
   "metadata": {},
   "outputs": [],
   "source": [
    "# LED 순차 흐르기\n",
    "RGB.Set_WaterfallLight_RGB()  # Magenta 색상, 하나씩 멸하면서 흘러감\n",
    "time.sleep(5)  # 흐르는 것 처럼 보이기 위한 충분한 시간을 주어야 함\n",
    "\n",
    "RGB.OFF_ALL_RGB(); # RGB 끄기\n",
    "time.sleep(1)"
   ]
  },
  {
   "cell_type": "code",
   "execution_count": 24,
   "metadata": {},
   "outputs": [],
   "source": [
    "# LED 무지게(카멜레온)\n",
    "RGB.Set_ChameleonLight_RGB()  # 10개의 색상이 다른 색으로 흘러감\n",
    "time.sleep(15)  \n",
    "\n",
    "RGB.OFF_ALL_RGB(); # RGB 끄기\n",
    "time.sleep(1)"
   ]
  },
  {
   "cell_type": "code",
   "execution_count": 25,
   "metadata": {},
   "outputs": [],
   "source": [
    "# 숨쉬기\n",
    "\n",
    "RGB.Set_BreathColor_RGB()  # 모두 같은 색으로 흘러김\n",
    "time.sleep(5)  \n",
    "\n",
    "RGB.OFF_ALL_RGB(); # RGB 끄기\n",
    "time.sleep(1)"
   ]
  },
  {
   "cell_type": "code",
   "execution_count": 29,
   "metadata": {},
   "outputs": [],
   "source": [
    "# 숨쉬기 사용자 설정\n",
    "# 0(빨),1(초),2(파),3(노),4(magenta),5(cyan),6(흰)\n",
    "RGB.Set_BreathSColor_RGB(2)   \n",
    "time.sleep(5)\n",
    "\n",
    "# speed: 1(slow), 2(normal), 3(fast)\n",
    "RGB.Set_BreathSSpeed_RGB(3)\n",
    "\n",
    "# 시작\n",
    "RGB.Set_BreathSLight_RGB()\n",
    "time.sleep(5)\n",
    "\n",
    "RGB.OFF_ALL_RGB(); # RGB 끄기\n",
    "time.sleep(1)"
   ]
  },
  {
   "cell_type": "code",
   "execution_count": null,
   "metadata": {},
   "outputs": [],
   "source": []
  }
 ],
 "metadata": {
  "kernelspec": {
   "display_name": "Python 3",
   "language": "python",
   "name": "python3"
  },
  "language_info": {
   "codemirror_mode": {
    "name": "ipython",
    "version": 3
   },
   "file_extension": ".py",
   "mimetype": "text/x-python",
   "name": "python",
   "nbconvert_exporter": "python",
   "pygments_lexer": "ipython3",
   "version": "3.6.9"
  }
 },
 "nbformat": 4,
 "nbformat_minor": 4
}
