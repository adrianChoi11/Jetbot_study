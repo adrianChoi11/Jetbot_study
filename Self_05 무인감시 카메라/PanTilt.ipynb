{
 "cells": [
  {
   "cell_type": "code",
   "execution_count": 2,
   "metadata": {},
   "outputs": [
    {
     "name": "stdout",
     "output_type": "stream",
     "text": [
      "serial Open!\n"
     ]
    }
   ],
   "source": [
    "from servoserial import ServoSerial\n",
    "import time\n",
    "pantilt = ServoSerial()  # pantilt 서보 인스턴스 생성"
   ]
  },
  {
   "cell_type": "code",
   "execution_count": 12,
   "metadata": {},
   "outputs": [
    {
     "name": "stdout",
     "output_type": "stream",
     "text": [
      "240\n",
      "b'\\xff\\xff\\x01\\x07\\x03*\\x08\\xc8\\x00\\n\\xf0'\n"
     ]
    }
   ],
   "source": [
    "# 카메라 서보 팬/틸트 회전 가능 최댓값\n",
    "MAX_PAN = 4096  # 좌우 Pan 범위 : 0(오른쪽 끝) ~ 4095(왼쪽 끝)\n",
    "MAX_TILT = 4096  # 상하 Pan 범위 : 0(아래쪽 끝) ~ 4095(위쪽 끝)\n",
    "\n",
    "# 카메라 서보 팬/틸트 오차 조정값 (상하좌우 원점 조정)\n",
    "PAN_ADJ = 212\n",
    "TILT_ADJ = 0\n",
    "\n",
    "# 오차 조정값을 적용하여 자주 사용할 팬/틸트의 중앙값 설정, 중앙에 있어서 얘를 제어하여 위치 조절\n",
    "MID_PAN = int(MAX_PAN/2 + PAN_ADJ)\n",
    "MID_TILT = int(MAX_TILT/2 + TILT_ADJ)\n",
    "\n",
    "# 초기 카메라의 틸트 위치 : 사람의 얼굴을 향하게 함\n",
    "DEF_TILT = MID_TILT + 200  # 악간 위쪽, 얼굴 인식용 카메라 초기위치\n",
    "pantilt.Servo_serial_control(1, DEF_TILT)"
   ]
  },
  {
   "cell_type": "code",
   "execution_count": 18,
   "metadata": {},
   "outputs": [
    {
     "name": "stdout",
     "output_type": "stream",
     "text": [
      "238\n",
      "b'\\xff\\xff\\x01\\x07\\x03*\\n\\xc8\\x00\\n\\xee'\n",
      "218\n",
      "b'\\xff\\xff\\x01\\x07\\x03*\\x06\\xe0\\x00\\n\\xda'\n",
      "228\n",
      "b'\\xff\\xff\\x01\\x07\\x03*\\x08\\xd4\\x00\\n\\xe4'\n"
     ]
    }
   ],
   "source": [
    "# 팬만 제어\n",
    "pantilt.Servo_serial_control(1, MID_PAN+500)  # left\n",
    "time.sleep(0.5)\n",
    "pantilt.Servo_serial_control(1, MID_PAN-500)  # right\n",
    "time.sleep(0.5)\n",
    "pantilt.Servo_serial_control(1, MID_PAN)  # mid-front\n",
    "time.sleep(0.5)"
   ]
  },
  {
   "cell_type": "code",
   "execution_count": 35,
   "metadata": {},
   "outputs": [
    {
     "name": "stdout",
     "output_type": "stream",
     "text": [
      "18\n",
      "b'\\xff\\xff\\x02\\x07\\x03*\\x05\\xa8\\x00\\n\\x12'\n",
      "83\n",
      "b'\\xff\\xff\\x02\\x07\\x03*\\x08d\\x00\\nS'\n"
     ]
    }
   ],
   "source": [
    "# 틸트만 제어\n",
    "\n",
    "#pantilt.Servo_serial_control(2, MID_TILT+500)  # up\n",
    "#time.sleep(0.5)\n",
    "\n",
    "pantilt.Servo_serial_control(2, MID_TILT-600)  # down\n",
    "time.sleep(0.5)\n",
    "\n",
    "pantilt.Servo_serial_control(2, MID_TILT+100)  # mid-front\n",
    "time.sleep(0.5)"
   ]
  },
  {
   "cell_type": "code",
   "execution_count": 40,
   "metadata": {},
   "outputs": [
    {
     "name": "stdout",
     "output_type": "stream",
     "text": [
      "92\n",
      "b'\\xff\\xff\\xfe\\x0e\\x83*\\x04\\x01\\n\\xc8\\x00\\n\\x02\\t\\xf4\\x00\\n\\\\'\n",
      "51\n",
      "b'\\xff\\xff\\xfe\\x0e\\x83*\\x04\\x01\\x06\\xe0\\x00\\n\\x02\\x06\\x0c\\x00\\n3'\n",
      "71\n",
      "b'\\xff\\xff\\xfe\\x0e\\x83*\\x04\\x01\\x08\\xd4\\x00\\n\\x02\\x08\\x00\\x00\\nG'\n"
     ]
    }
   ],
   "source": [
    "# 팬만 제어\n",
    "pantilt.Servo_serial_double_control(1, MID_PAN+500,2, MID_TILT+500)  # left-up\n",
    "time.sleep(0.5)\n",
    "\n",
    "pantilt.Servo_serial_double_control(1, MID_PAN-500,2, MID_TILT-500)  # right-down\n",
    "time.sleep(0.5)\n",
    "\n",
    "pantilt.Servo_serial_double_control(1, MID_PAN,2, MID_TILT)  # mid-front\n",
    "time.sleep(0.5)"
   ]
  },
  {
   "cell_type": "code",
   "execution_count": 41,
   "metadata": {},
   "outputs": [],
   "source": [
    "# 함수를 만들어서 호출\n",
    "def MovePanTilt(pan, tilt):\n",
    "    pantilt.Servo_serial_double_control(1,pan, 2, tilt)"
   ]
  },
  {
   "cell_type": "code",
   "execution_count": 43,
   "metadata": {},
   "outputs": [
    {
     "name": "stdout",
     "output_type": "stream",
     "text": [
      "81\n",
      "b'\\xff\\xff\\xfe\\x0e\\x83*\\x04\\x01\\n\\x00\\x00\\n\\x02\\x08\\xc8\\x00\\nQ'\n",
      "172\n",
      "b'\\xff\\xff\\xfe\\x0e\\x83*\\x04\\x01\\x07\\xa8\\x00\\n\\x02\\x08\\xc8\\x00\\n\\xac'\n",
      "81\n",
      "b'\\xff\\xff\\xfe\\x0e\\x83*\\x04\\x01\\n\\x00\\x00\\n\\x02\\x08\\xc8\\x00\\nQ'\n",
      "172\n",
      "b'\\xff\\xff\\xfe\\x0e\\x83*\\x04\\x01\\x07\\xa8\\x00\\n\\x02\\x08\\xc8\\x00\\n\\xac'\n",
      "81\n",
      "b'\\xff\\xff\\xfe\\x0e\\x83*\\x04\\x01\\n\\x00\\x00\\n\\x02\\x08\\xc8\\x00\\nQ'\n",
      "172\n",
      "b'\\xff\\xff\\xfe\\x0e\\x83*\\x04\\x01\\x07\\xa8\\x00\\n\\x02\\x08\\xc8\\x00\\n\\xac'\n",
      "71\n",
      "b'\\xff\\xff\\xfe\\x0e\\x83*\\x04\\x01\\x08\\xd4\\x00\\n\\x02\\x08\\x00\\x00\\nG'\n"
     ]
    }
   ],
   "source": [
    "# 사람의 얼굴을 향하면서 좌우 왕복 3회 후 원복 \n",
    "for i in range(0,3): \n",
    "    MovePanTilt(MID_PAN+300, DEF_TILT)\n",
    "    time.sleep(0.2)\n",
    "    \n",
    "    MovePanTilt(MID_PAN-300, DEF_TILT)\n",
    "    time.sleep(0.2)\n",
    "    \n",
    "MovePanTilt(MID_PAN, MID_TILT)  # 초기위치\n",
    "time.sleep(1)"
   ]
  },
  {
   "cell_type": "code",
   "execution_count": 45,
   "metadata": {},
   "outputs": [
    {
     "name": "stdout",
     "output_type": "stream",
     "text": [
      "26\n",
      "b'\\xff\\xff\\xfe\\x0e\\x83*\\x04\\x01\\x08\\xd4\\x00\\n\\x02\\t,\\x00\\n\\x1a'\n",
      "117\n",
      "b'\\xff\\xff\\xfe\\x0e\\x83*\\x04\\x01\\x08\\xd4\\x00\\n\\x02\\x06\\xd4\\x00\\nu'\n",
      "26\n",
      "b'\\xff\\xff\\xfe\\x0e\\x83*\\x04\\x01\\x08\\xd4\\x00\\n\\x02\\t,\\x00\\n\\x1a'\n",
      "117\n",
      "b'\\xff\\xff\\xfe\\x0e\\x83*\\x04\\x01\\x08\\xd4\\x00\\n\\x02\\x06\\xd4\\x00\\nu'\n",
      "26\n",
      "b'\\xff\\xff\\xfe\\x0e\\x83*\\x04\\x01\\x08\\xd4\\x00\\n\\x02\\t,\\x00\\n\\x1a'\n",
      "117\n",
      "b'\\xff\\xff\\xfe\\x0e\\x83*\\x04\\x01\\x08\\xd4\\x00\\n\\x02\\x06\\xd4\\x00\\nu'\n",
      "26\n",
      "b'\\xff\\xff\\xfe\\x0e\\x83*\\x04\\x01\\x08\\xd4\\x00\\n\\x02\\t,\\x00\\n\\x1a'\n",
      "117\n",
      "b'\\xff\\xff\\xfe\\x0e\\x83*\\x04\\x01\\x08\\xd4\\x00\\n\\x02\\x06\\xd4\\x00\\nu'\n",
      "26\n",
      "b'\\xff\\xff\\xfe\\x0e\\x83*\\x04\\x01\\x08\\xd4\\x00\\n\\x02\\t,\\x00\\n\\x1a'\n",
      "117\n",
      "b'\\xff\\xff\\xfe\\x0e\\x83*\\x04\\x01\\x08\\xd4\\x00\\n\\x02\\x06\\xd4\\x00\\nu'\n",
      "26\n",
      "b'\\xff\\xff\\xfe\\x0e\\x83*\\x04\\x01\\x08\\xd4\\x00\\n\\x02\\t,\\x00\\n\\x1a'\n",
      "117\n",
      "b'\\xff\\xff\\xfe\\x0e\\x83*\\x04\\x01\\x08\\xd4\\x00\\n\\x02\\x06\\xd4\\x00\\nu'\n",
      "26\n",
      "b'\\xff\\xff\\xfe\\x0e\\x83*\\x04\\x01\\x08\\xd4\\x00\\n\\x02\\t,\\x00\\n\\x1a'\n",
      "117\n",
      "b'\\xff\\xff\\xfe\\x0e\\x83*\\x04\\x01\\x08\\xd4\\x00\\n\\x02\\x06\\xd4\\x00\\nu'\n",
      "26\n",
      "b'\\xff\\xff\\xfe\\x0e\\x83*\\x04\\x01\\x08\\xd4\\x00\\n\\x02\\t,\\x00\\n\\x1a'\n",
      "117\n",
      "b'\\xff\\xff\\xfe\\x0e\\x83*\\x04\\x01\\x08\\xd4\\x00\\n\\x02\\x06\\xd4\\x00\\nu'\n",
      "71\n",
      "b'\\xff\\xff\\xfe\\x0e\\x83*\\x04\\x01\\x08\\xd4\\x00\\n\\x02\\x08\\x00\\x00\\nG'\n"
     ]
    }
   ],
   "source": [
    "# 끄덕끄덕\n",
    "for i in range(0,8): \n",
    "    MovePanTilt(MID_PAN, MID_TILT+300)\n",
    "    time.sleep(0.2)\n",
    "    \n",
    "    MovePanTilt(MID_PAN, MID_TILT-300)\n",
    "    time.sleep(0.2)\n",
    "    \n",
    "MovePanTilt(MID_PAN, MID_TILT)  # 초기위치\n",
    "time.sleep(1)\n",
    "\n"
   ]
  },
  {
   "cell_type": "code",
   "execution_count": null,
   "metadata": {},
   "outputs": [],
   "source": []
  }
 ],
 "metadata": {
  "kernelspec": {
   "display_name": "Python 3",
   "language": "python",
   "name": "python3"
  },
  "language_info": {
   "codemirror_mode": {
    "name": "ipython",
    "version": 3
   },
   "file_extension": ".py",
   "mimetype": "text/x-python",
   "name": "python",
   "nbconvert_exporter": "python",
   "pygments_lexer": "ipython3",
   "version": "3.6.9"
  }
 },
 "nbformat": 4,
 "nbformat_minor": 4
}
