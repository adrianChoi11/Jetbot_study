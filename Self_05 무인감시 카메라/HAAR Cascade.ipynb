{
 "cells": [
  {
   "cell_type": "code",
   "execution_count": 2,
   "metadata": {},
   "outputs": [],
   "source": [
    "# 영상을 받아들일 카메라 인스턴스 생성 \n",
    "\n",
    "from jetbot import Camera \n",
    "from jetbot import bgr8_to_jpeg\n",
    "\n",
    "camera = Camera.instance(width=720, height=720)  # 720x720 픽셀 이미지 사용"
   ]
  },
  {
   "cell_type": "code",
   "execution_count": 3,
   "metadata": {},
   "outputs": [
    {
     "name": "stdout",
     "output_type": "stream",
     "text": [
      "serial Open!\n",
      "83\n",
      "b'\\xff\\xff\\xfe\\x0e\\x83*\\x04\\x01\\x08\\x00\\x00\\n\\x02\\x08\\xc8\\x00\\nS'\n"
     ]
    }
   ],
   "source": [
    "# 서보모터의 초기화 위치 설정\n",
    "# sudo chmod 666 /dev/ttyTHS1 해당 명령어로 원한 수정 해주어야함\n",
    "\n",
    "\n",
    "from servoserial import ServoSerial\n",
    "import time\n",
    "\n",
    "pantilt = ServoSerial()  # Pantilt 서보 인스턴스 생성\n",
    "\n",
    "# 초기 카메라 방향을 좌우의 중간, 상하의 약간 위를 바라보도록 설정\n",
    "pantilt.Servo_serial_double_control(1,2048,2,2048+200)\n",
    "time.sleep(0.5)"
   ]
  },
  {
   "cell_type": "code",
   "execution_count": 4,
   "metadata": {},
   "outputs": [],
   "source": [
    "# 검출 영역의 좌표와 크기\n",
    "# 검출 대상인 얼굴이 검출 된 좌표의 크기와 영역, 나중에 박스로 표시함\n",
    "global detect_x, detect_y, detect_w, detect_h\n",
    "\n",
    "detect_x = detect_y = detect_w = detect_h = 0"
   ]
  },
  {
   "cell_type": "code",
   "execution_count": 4,
   "metadata": {},
   "outputs": [
    {
     "data": {
      "application/vnd.jupyter.widget-view+json": {
       "model_id": "71e8abe4bf1c4c8d816772b5cb668813",
       "version_major": 2,
       "version_minor": 0
      },
      "text/plain": [
       "Image(value=b'', format='jpeg', height='300', width='300')"
      ]
     },
     "metadata": {},
     "output_type": "display_data"
    }
   ],
   "source": [
    "# 키메라 프리뷰 위젯 만들기\n",
    "\n",
    "import traitlets\n",
    "import ipywidgets.widgets as widgets\n",
    "from IPython.display import display\n",
    "\n",
    "detect_img = widgets.Image(format='jpeg', width=300, height=300)  # 프리뷰 화면은 300x300 픽셀로 설정\n",
    "display(detect_img)"
   ]
  },
  {
   "cell_type": "code",
   "execution_count": 5,
   "metadata": {},
   "outputs": [],
   "source": [
    "# HARR Ccascade Classifier 학습 데이터 로딩\n",
    "#아래 셋 중 하나 골라서 사용\n",
    "\n",
    "import cv2\n",
    "\n",
    "detect_cascade = cv2.CascadeClassifier('haarcascade_frontalface_default.xml')  # 정면 얼굴 검출용, 해당 파일을 같은 다렉토리에 둔 후 작업한다, 아니면 쳥로를 찾아서 정확하게 입력한다\n",
    "# https://diy-project.tistory.com/79#google_vignette\n",
    "# detect_cascade = cv2.CascadeClassifier('haarcascade_fullbody.xml')  # 몸 전체 검출용\n",
    "# detect_cascade = cv2.CascadeClassifier('haarcascade_upperbody.xml')  # 상반신 검출용"
   ]
  },
  {
   "cell_type": "code",
   "execution_count": 6,
   "metadata": {},
   "outputs": [
    {
     "ename": "KeyboardInterrupt",
     "evalue": "",
     "output_type": "error",
     "traceback": [
      "\u001b[0;31m---------------------------------------------------------------------------\u001b[0m",
      "\u001b[0;31mKeyboardInterrupt\u001b[0m                         Traceback (most recent call last)",
      "\u001b[0;32m<ipython-input-6-048654ab2946>\u001b[0m in \u001b[0;36m<module>\u001b[0;34m\u001b[0m\n\u001b[1;32m      6\u001b[0m     \u001b[0mgray\u001b[0m \u001b[0;34m=\u001b[0m \u001b[0mcv2\u001b[0m\u001b[0;34m.\u001b[0m\u001b[0mcvtColor\u001b[0m\u001b[0;34m(\u001b[0m\u001b[0mframe\u001b[0m\u001b[0;34m,\u001b[0m \u001b[0mcv2\u001b[0m\u001b[0;34m.\u001b[0m\u001b[0mCOLOR_BGR2GRAY\u001b[0m\u001b[0;34m)\u001b[0m  \u001b[0;31m# 흑백 이미지로 변환하여 검출에 사용\u001b[0m\u001b[0;34m\u001b[0m\u001b[0;34m\u001b[0m\u001b[0m\n\u001b[1;32m      7\u001b[0m \u001b[0;34m\u001b[0m\u001b[0m\n\u001b[0;32m----> 8\u001b[0;31m     \u001b[0mbodies\u001b[0m \u001b[0;34m=\u001b[0m \u001b[0mdetect_cascade\u001b[0m\u001b[0;34m.\u001b[0m\u001b[0mdetectMultiScale\u001b[0m\u001b[0;34m(\u001b[0m\u001b[0mgray\u001b[0m\u001b[0;34m)\u001b[0m  \u001b[0;31m# 이미지 내에서 신체 검출, 흑백으로 변환된 이미지에서 크기가 다른 객체를 검출하는 함수\u001b[0m\u001b[0;34m\u001b[0m\u001b[0;34m\u001b[0m\u001b[0m\n\u001b[0m\u001b[1;32m      9\u001b[0m \u001b[0;34m\u001b[0m\u001b[0m\n\u001b[1;32m     10\u001b[0m     \u001b[0;32mif\u001b[0m \u001b[0mlen\u001b[0m\u001b[0;34m(\u001b[0m\u001b[0mbodies\u001b[0m\u001b[0;34m)\u001b[0m \u001b[0;34m>\u001b[0m \u001b[0;36m0\u001b[0m\u001b[0;34m:\u001b[0m\u001b[0;34m\u001b[0m\u001b[0;34m\u001b[0m\u001b[0m\n",
      "\u001b[0;31mKeyboardInterrupt\u001b[0m: "
     ]
    }
   ],
   "source": [
    "# 카메라 영상에서 검출된 영역을 표시하는 메인 루프\n",
    "\n",
    "while True:\n",
    "    frame = camera.value  # 카메라에서 영산 프레임 이미지를 가져옴 \n",
    "    frame = cv2.resize(frame, (300,300))  # 이미지를 학습 테이터와 동일한 크기로 변환\n",
    "    gray = cv2.cvtColor(frame, cv2.COLOR_BGR2GRAY)  # 흑백 이미지로 변환하여 검출에 사용\n",
    "    \n",
    "    bodies = detect_cascade.detectMultiScale(gray)  # 이미지 내에서 신체 검출, 흑백으로 변환된 이미지에서 크기가 다른 객체를 검출하는 함수    \n",
    "    \n",
    "    if len(bodies) > 0:\n",
    "        (detect_x, detect_y, detect_w, detect_h) = bodies[0]  # 좌표와 크기\n",
    "        \n",
    "        # 검출 영역을 사각 박스로 표시\n",
    "        # (이미지, 시작좌표, 종료좌표, BGR형태의 컬러 , 선의 두깨(픽셀 단위))\n",
    "        cv2.rectangle(frame, (detect_x, detect_y), (detect_x+detect_h, detect_y+detect_w), (0,255,0),4)\n",
    "        \n",
    "    # 결과 이미지를 프리뷰 위젯에 표시\n",
    "    detect_img.value=bgr8_to_jpeg(frame)  # 사각 박스로 표시한 이미지를 표시"
   ]
  },
  {
   "cell_type": "code",
   "execution_count": null,
   "metadata": {},
   "outputs": [],
   "source": []
  },
  {
   "cell_type": "code",
   "execution_count": null,
   "metadata": {},
   "outputs": [],
   "source": []
  },
  {
   "cell_type": "code",
   "execution_count": null,
   "metadata": {},
   "outputs": [],
   "source": []
  },
  {
   "cell_type": "code",
   "execution_count": null,
   "metadata": {},
   "outputs": [],
   "source": []
  },
  {
   "cell_type": "code",
   "execution_count": null,
   "metadata": {},
   "outputs": [],
   "source": []
  },
  {
   "cell_type": "code",
   "execution_count": null,
   "metadata": {},
   "outputs": [],
   "source": []
  }
 ],
 "metadata": {
  "kernelspec": {
   "display_name": "Python 3",
   "language": "python",
   "name": "python3"
  },
  "language_info": {
   "codemirror_mode": {
    "name": "ipython",
    "version": 3
   },
   "file_extension": ".py",
   "mimetype": "text/x-python",
   "name": "python",
   "nbconvert_exporter": "python",
   "pygments_lexer": "ipython3",
   "version": "3.6.9"
  }
 },
 "nbformat": 4,
 "nbformat_minor": 4
}
